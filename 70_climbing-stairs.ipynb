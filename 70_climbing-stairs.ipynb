{
 "cells": [
  {
   "cell_type": "markdown",
   "id": "d79d2999",
   "metadata": {},
   "source": [
    "### Description\n",
    "\n",
    "You are climbing a staircase. It takes n steps to reach the top.  \n",
    "\n",
    "Each time you can either climb 1 or 2 steps. In how many distinct ways can you climb to the top?"
   ]
  },
  {
   "cell_type": "markdown",
   "id": "eb2fd18e",
   "metadata": {},
   "source": [
    "### Example\n",
    "\n",
    "Input: n = 2  \n",
    "Output: 2  \n",
    "Explanation: There are two ways to climb to the top.  \n",
    "1. 1 step + 1 step\n",
    "2. 2 steps\n",
    "\n",
    "Input: n = 3  \n",
    "Output: 3  \n",
    "Explanation: There are three ways to climb to the top.  \n",
    "1. 1 step + 1 step + 1 step\n",
    "2. 1 step + 2 steps\n",
    "3. 2 steps + 1 step"
   ]
  },
  {
   "cell_type": "markdown",
   "id": "b1c433af",
   "metadata": {},
   "source": [
    "### Constraints\n",
    "\n",
    "1 <= n <= 45"
   ]
  },
  {
   "cell_type": "code",
   "execution_count": 3,
   "id": "c00f9687",
   "metadata": {},
   "outputs": [],
   "source": [
    "var map = new Map();\n",
    "\n",
    "var climbStairs = function (n) {\n",
    "    if (n == 0) {\n",
    "        return 0;\n",
    "    }\n",
    "    if (n == 1) {\n",
    "        return 1;\n",
    "    }\n",
    "    if (n == 2) {\n",
    "        return 2;\n",
    "    }\n",
    "\n",
    "    // take 1 step\n",
    "    var ways1;\n",
    "    if (map.has(n - 1)) {\n",
    "        ways1 = map.get(n - 1);\n",
    "    } else {\n",
    "        ways1 = climbStairs(n - 1);\n",
    "        map.set(n - 1, ways1);\n",
    "    }\n",
    "\n",
    "    // take 2 steps\n",
    "    var ways2;\n",
    "    if (map.has(n - 2)) {\n",
    "        ways2 = map.get(n - 2);\n",
    "    } else {\n",
    "        ways2 = climbStairs(n - 2);\n",
    "        map.set(n - 2, ways2);\n",
    "    }\n",
    "\n",
    "    return ways1 + ways2;\n",
    "};\n"
   ]
  },
  {
   "cell_type": "markdown",
   "id": "e5c096e6",
   "metadata": {},
   "source": [
    "### Explanation\n",
    "\n",
    "ways to achieve current steps =  \n",
    "\n",
    "ways to achieve 1 step behind (then take 1 step to achieve current step)  \n",
    "+  \n",
    "ways to achieve 2 step behind (then take 2 steps to achieve current step)"
   ]
  }
 ],
 "metadata": {
  "kernelspec": {
   "display_name": "JavaScript (Node.js)",
   "language": "javascript",
   "name": "javascript"
  },
  "language_info": {
   "file_extension": ".js",
   "mimetype": "application/javascript",
   "name": "javascript",
   "version": "20.11.1"
  }
 },
 "nbformat": 4,
 "nbformat_minor": 5
}
